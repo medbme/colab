{
  "nbformat": 4,
  "nbformat_minor": 0,
  "metadata": {
    "colab": {
      "name": "simpleCode.ipynb",
      "version": "0.3.2",
      "provenance": [],
      "collapsed_sections": [],
      "include_colab_link": true
    },
    "kernelspec": {
      "name": "python3",
      "display_name": "Python 3"
    }
  },
  "cells": [
    {
      "cell_type": "markdown",
      "metadata": {
        "id": "view-in-github",
        "colab_type": "text"
      },
      "source": [
        "<a href=\"https://colab.research.google.com/github/medbme/colab/blob/master/simpleCode.ipynb\" target=\"_parent\"><img src=\"https://colab.research.google.com/assets/colab-badge.svg\" alt=\"Open In Colab\"/></a>"
      ]
    },
    {
      "cell_type": "code",
      "metadata": {
        "id": "Hy77BHs-NKSr",
        "colab_type": "code",
        "outputId": "5da1526c-140d-457a-ed57-5040a3e5f275",
        "colab": {
          "base_uri": "https://localhost:8080/",
          "height": 35
        }
      },
      "source": [
        "# 구구단 출력(2~9단)\n",
        "\n",
        "print(\"★ 구구단을 출력합니다.\\n\")\n",
        "for x in range(2, 10):\n",
        "    print(\"------- [\" + str(x) + \"단] -------\")\n",
        "    for y in range(1, 10):\n",
        "        print(x, \"X\", y, \"=\", x*y)\n",
        "print(\"---------------------\")"
      ],
      "execution_count": 0,
      "outputs": [
        {
          "output_type": "stream",
          "text": [
            "fatal: destination path 'colab' already exists and is not an empty directory.\n"
          ],
          "name": "stdout"
        }
      ]
    },
    {
      "cell_type": "code",
      "metadata": {
        "id": "qLMWeiCm0Kow",
        "colab_type": "code",
        "outputId": "fb8cc77c-e729-4f47-8486-faa6015802aa",
        "colab": {
          "base_uri": "https://localhost:8080/",
          "height": 422
        }
      },
      "source": [
        "# 동전던기지 확률 히스토그램 그리기\n",
        "\n",
        "import random\n",
        "import numpy as np\n",
        "import matplotlib.pyplot as plt\n",
        " \n",
        "def Probability():\n",
        "    front = 0\n",
        "    for i in range(1,1000):\n",
        "        result = random.randrange(0, 2)\n",
        "        #print(result)\n",
        "        if(result==1):\n",
        "            front += 1\n",
        "    return (front/1000)\n",
        " \n",
        "list_prob = []\n",
        "for i in range(1,10001):\n",
        "    list_prob.append(Probability())\n",
        "'''\n",
        "t = []\n",
        "for i in range(1,10001):\n",
        "    t.append(i)\n",
        "t = np.array(t)\n",
        "'''\n",
        "y = np.array(list_prob)\n",
        " \n",
        "#print(t)\n",
        "print(y)\n",
        " \n",
        "#draw graph\n",
        "plt.figure(figsize=(10,6))\n",
        "#plt.bar(t,y)\n",
        "plt.hist(y, bins=30, facecolor = 'red' ,alpha = 0.5 ,label ='bin=>30', edgecolor = 'black')\n",
        "plt.xlabel('Probability')\n",
        "plt.ylabel('Count')\n",
        "plt.title('First Assignment')\n",
        "plt.show()"
      ],
      "execution_count": 0,
      "outputs": [
        {
          "output_type": "stream",
          "text": [
            "[0.491 0.502 0.504 ... 0.476 0.501 0.51 ]\n"
          ],
          "name": "stdout"
        },
        {
          "output_type": "display_data",
          "data": {
            "image/png": "[encoded data removed]",
            "text/plain": [
              "<Figure size 720x432 with 1 Axes>"
            ]
          },
          "metadata": {
            "tags": []
          }
        }
      ]
    },
    {
      "cell_type": "code",
      "metadata": {
        "id": "tne7zF-h0mJB",
        "colab_type": "code",
        "outputId": "7a251601-9895-46dc-dd46-87c6c80f3f26",
        "colab": {
          "base_uri": "https://localhost:8080/",
          "height": 107
        }
      },
      "source": [
        "'''\n",
        "(문제)\n",
        "RGB거리에 사는 사람들은 집을 빨강, 초록, 파랑중에 하나로 칠하려고 한다. \n",
        "또한, 그들은 모든 이웃은 같은 색으로 칠할 수 없다는 규칙도 정했다. \n",
        "집 i의 이웃은 집 i-1과 집 i+1이다. \n",
        "각 집을 빨강으로 칠할 때 드는 비용, 초록으로 칠할 때 드는 비용, 파랑으로 드는 비용이 주어질 때, 모든 집을 칠할 때 드는 비용의 최솟값을 구하는 프로그램을 작성하시오.\n",
        "\n",
        "(입력)\n",
        "첫째 줄에 집의 수 N이 주어진다. N은 1,000보다 작거나 같다. \n",
        "둘째 줄부터 N개의 줄에 각 집을 빨강으로 칠할 때, 초록으로 칠할 때, 파랑으로 칠할 때 드는 비용이 주어진다.\n",
        "비용은 1,000보다 작거나 같은 자연수이다.\n",
        "\n",
        "(출력)\n",
        "첫째 줄에 모든 집을 칠할 때 드는 비용의 최솟값을 출력한다.\n",
        "\n",
        "(예제 입력 1)\n",
        "3\n",
        "26 40 83\n",
        "49 60 57\n",
        "13 89 99\n",
        "\n",
        "(예제 출력1)\n",
        "96\n",
        "\n",
        "'''\n",
        "\n",
        "\n",
        "n = int(input())\n",
        "rgblist = []\n",
        "\n",
        "for i in range(n):\n",
        "    r, g, b = map(int, input().split(\" \"))\n",
        "    rgblist.append([r, g, b])\n",
        "\n",
        "dp = []\n",
        "\n",
        "dp.append(rgblist[0])\n",
        "\n",
        "for i in range(1, n):\n",
        "    temp = []\n",
        "    temp.append(min(dp[i-1][1], dp[i-1][2]) + rgblist[i][0]) # r을 선택했을 경우\n",
        "    temp.append(min(dp[i-1][0], dp[i-1][2]) + rgblist[i][1]) # g를 선택했을 경우\n",
        "    temp.append(min(dp[i-1][0], dp[i-1][1]) + rgblist[i][2]) # b를 선택했을 경우\n",
        "\n",
        "    dp.append(temp)\n",
        "    \n",
        "print(min(dp[n - 1]))"
      ],
      "execution_count": 0,
      "outputs": [
        {
          "output_type": "stream",
          "text": [
            "3\n",
            "26 40 83\n",
            "49 60 57\n",
            "13 89 99\n",
            "96\n"
          ],
          "name": "stdout"
        }
      ]
    }
  ]
}