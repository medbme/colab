{
  "nbformat": 4,
  "nbformat_minor": 0,
  "metadata": {
    "colab": {
      "name": "lung_nodule_detection.ipynb",
      "version": "0.3.2",
      "provenance": [],
      "collapsed_sections": [],
      "include_colab_link": true
    },
    "language_info": {
      "codemirror_mode": {
        "name": "ipython",
        "version": 3
      },
      "file_extension": ".py",
      "mimetype": "text/x-python",
      "name": "python",
      "nbconvert_exporter": "python",
      "pygments_lexer": "ipython3",
      "version": "3.6.5"
    },
    "kernelspec": {
      "display_name": "Python 3",
      "language": "python",
      "name": "python3"
    }
  },
  "cells": [
    {
      "cell_type": "markdown",
      "metadata": {
        "id": "view-in-github",
        "colab_type": "text"
      },
      "source": [
        "<a href=\"https://colab.research.google.com/github/medbme/colab/blob/master/lung_nodule_detection.ipynb\" target=\"_parent\"><img src=\"https://colab.research.google.com/assets/colab-badge.svg\" alt=\"Open In Colab\"/></a>"
      ]
    },
    {
      "cell_type": "code",
      "metadata": {
        "id": "52WLbH32Qv3X",
        "colab_type": "code",
        "colab": {}
      },
      "source": [
        "# 이미지 파일 및 기타 파일 GitHub에서 가져오는 코드\n",
        "!git clone https://github.com/medbme/colab.git\n"
      ],
      "execution_count": 0,
      "outputs": []
    },
    {
      "cell_type": "code",
      "metadata": {
        "id": "nqJtxY5mbIeZ",
        "colab_type": "code",
        "colab": {}
      },
      "source": [
        "  \n",
        "import numpy as np\n",
        "import cv2\n",
        "import matplotlib.pyplot as plt\n",
        "from PIL import Image\n",
        "\n",
        "%matplotlib inline\n",
        "# 이미지 불러오기\n",
        "img = cv2.imread('colab/lung_1.png') # in BGR mode\n",
        "img = cv2.cvtColor(img, cv2.COLOR_BGR2RGB)\n",
        "\n",
        "plt.imshow(img,interpolation='bicubic')\n",
        "plt.show()"
      ],
      "execution_count": 0,
      "outputs": []
    },
    {
      "cell_type": "code",
      "metadata": {
        "id": "JOiUiB1O5goM",
        "colab_type": "code",
        "colab": {}
      },
      "source": [
        "# 색 반전 시키기 - 폐 부분을 희게\n",
        "\n",
        "img_color = img\n",
        "height,width = img_color.shape[:2]\n",
        "\n",
        "img_hsv = cv2.cvtColor(img_color, cv2.COLOR_BGR2HSV)\n",
        "\n",
        "lower_blue = (0,0,0) \n",
        "upper_blue = (30,30,30)\n",
        "img_mask = cv2.inRange(img_hsv, lower_blue, upper_blue)\n",
        "\n",
        "plt.imshow(img_mask, cmap='Greys_r')"
      ],
      "execution_count": 0,
      "outputs": []
    },
    {
      "cell_type": "code",
      "metadata": {
        "id": "XSd3zNOL5goV",
        "colab_type": "code",
        "outputId": "13fd8984-b2e1-476f-8444-6e6d393c522a",
        "colab": {
          "base_uri": "https://localhost:8080/",
          "height": 384
        }
      },
      "source": [
        "# 폐 노듈 검출\n",
        "\n",
        "import cv2\n",
        "import numpy as np\n",
        "from google.colab.patches import cv2_imshow\n",
        "\n",
        "def houghCircle():\n",
        "    img1=cv2.imread('colab/lung_mask.png')\n",
        "    img2=img1.copy()\n",
        "    img2 = cv2.GaussianBlur(img2, (7,7), 0)\n",
        "    imgray=cv2.cvtColor(img2,cv2.COLOR_BGR2GRAY)\n",
        "    \n",
        "    circles = cv2.HoughCircles(imgray,cv2.HOUGH_GRADIENT,1,10, \n",
        "                             param1=40, param2=10, minRadius=5, maxRadius=10)\n",
        "    if circles is not None:\n",
        "        circles = np.uint16(np.around(circles))\n",
        "\n",
        "        for i in circles[0, :]:\n",
        "            cv2.circle(img1, (i[0],i[1]),i[2],(0,0,255),2)\n",
        "            \n",
        "        cv2_imshow(img1)\n",
        "#         cv2.waitKey(0)\n",
        "#         cv2.destroyAllWindows()\n",
        "        \n",
        "houghCircle()"
      ],
      "execution_count": 0,
      "outputs": [
        {
          "output_type": "display_data",
          "data": {
            "image/png": "[encoded data removed]",
            "text/plain": [
              "<PIL.Image.Image image mode=RGB size=363x367 at 0x7F96FD27FA20>"
            ]
          },
          "metadata": {
            "tags": []
          }
        }
      ]
    }
  ]
}